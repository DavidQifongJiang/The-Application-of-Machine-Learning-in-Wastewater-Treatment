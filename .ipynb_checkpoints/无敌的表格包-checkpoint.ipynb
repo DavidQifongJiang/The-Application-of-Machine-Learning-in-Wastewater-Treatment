{
 "cells": [
  {
   "cell_type": "code",
   "execution_count": 1,
   "id": "72e886e1",
   "metadata": {},
   "outputs": [],
   "source": [
    "from colorama import Fore"
   ]
  },
  {
   "cell_type": "code",
   "execution_count": 2,
   "id": "e66d57bc",
   "metadata": {},
   "outputs": [],
   "source": [
    "class Best:\n",
    "    \"\"\"\n",
    "    Best is used to utilise the best model when predictor = 'all' is used.\n",
    "\n",
    "    \"\"\"\n",
    "\n",
    "    def __init__(self, best_model, tune, isReg=False):\n",
    "        self.__best_model = best_model\n",
    "        self.model = self.__best_model[\"Model\"]\n",
    "        self.name = self.__best_model[\"Name\"]\n",
    "        self.tune = tune\n",
    "        if isReg:\n",
    "            self.r2_score = self.__best_model[\"R2 Score\"]\n",
    "            self.mae = self.__best_model[\"Mean Absolute Error\"]\n",
    "            self.rmse = self.__best_model[\"Root Mean Squared Error\"]\n",
    "        if not isReg:\n",
    "            self.accuracy = self.__best_model[\"Accuracy\"]\n",
    "        self.kfold_acc = self.__best_model[\"KFold Accuracy\"]\n",
    "        if tune == True:\n",
    "            self.best_params = self.__best_model[\"Best Parameters\"]\n",
    "            self.best_accuracy = self.__best_model[\"Best Accuracy\"]\n",
    "        else:\n",
    "            self.best_params = \"Run with tune = True to get best parameters\"\n",
    "        self.isReg = isReg\n",
    "\n",
    "    def summary(self):\n",
    "        \"\"\"Returns a summary of the best model\"\"\"\n",
    "        print(\"\\nBest Model Summary:\")\n",
    "        print(Fore.CYAN + \"Name: \", self.name)\n",
    "        if self.isReg:\n",
    "            print(Fore.CYAN + \"R2 Score: \", self.r2_score)\n",
    "            print(Fore.CYAN + \"Mean Absolute Error: \", self.mae)\n",
    "            print(Fore.CYAN + \"Root Mean Squared Error: \", self.rmse)\n",
    "        else:\n",
    "            print(Fore.CYAN + \"Accuracy: \", self.accuracy)\n",
    "        print(Fore.CYAN + \"KFold Accuracy: \", self.kfold_acc)\n",
    "        if self.tune:\n",
    "            print(Fore.CYAN + \"Best Parameters: \", self.best_params)\n",
    "            print(Fore.CYAN + \"Best Accuracy: \", self.best_accuracy)\n",
    "        print(\"\\n\")\n",
    "\n",
    "    def predict(self, pred):\n",
    "        \"\"\"Predicts the output of the best model\"\"\"\n",
    "        prediction = self.__best_model[\"Model\"].predict(pred)\n",
    "        return prediction"
   ]
  },
  {
   "cell_type": "code",
   "execution_count": null,
   "id": "e0dc03c6",
   "metadata": {},
   "outputs": [],
   "source": []
  }
 ],
 "metadata": {
  "kernelspec": {
   "display_name": "Python 3 (ipykernel)",
   "language": "python",
   "name": "python3"
  },
  "language_info": {
   "codemirror_mode": {
    "name": "ipython",
    "version": 3
   },
   "file_extension": ".py",
   "mimetype": "text/x-python",
   "name": "python",
   "nbconvert_exporter": "python",
   "pygments_lexer": "ipython3",
   "version": "3.9.13"
  }
 },
 "nbformat": 4,
 "nbformat_minor": 5
}
