{
 "cells": [
  {
   "cell_type": "code",
   "execution_count": 1,
   "id": "a02770d8",
   "metadata": {},
   "outputs": [
    {
     "ename": "ModuleNotFoundError",
     "evalue": "No module named '无敌的命名包'",
     "output_type": "error",
     "traceback": [
      "\u001b[1;31m---------------------------------------------------------------------------\u001b[0m",
      "\u001b[1;31mModuleNotFoundError\u001b[0m                       Traceback (most recent call last)",
      "\u001b[1;32m~\\AppData\\Local\\Temp\\ipykernel_19768\\1235911616.py\u001b[0m in \u001b[0;36m<module>\u001b[1;34m\u001b[0m\n\u001b[1;32m----> 1\u001b[1;33m \u001b[1;32mfrom\u001b[0m \u001b[0m无敌的命名包\u001b[0m \u001b[1;32mimport\u001b[0m \u001b[1;33m*\u001b[0m\u001b[1;33m\u001b[0m\u001b[1;33m\u001b[0m\u001b[0m\n\u001b[0m\u001b[0;32m      2\u001b[0m \u001b[1;32mfrom\u001b[0m \u001b[0msklearn\u001b[0m\u001b[1;33m.\u001b[0m\u001b[0mmodel_selection\u001b[0m \u001b[1;32mimport\u001b[0m \u001b[0mcross_val_score\u001b[0m\u001b[1;33m\u001b[0m\u001b[1;33m\u001b[0m\u001b[0m\n\u001b[0;32m      3\u001b[0m \u001b[1;32mimport\u001b[0m \u001b[0mscipy\u001b[0m\u001b[1;33m\u001b[0m\u001b[1;33m\u001b[0m\u001b[0m\n\u001b[0;32m      4\u001b[0m \u001b[1;32mfrom\u001b[0m \u001b[0mcolorama\u001b[0m \u001b[1;32mimport\u001b[0m \u001b[0mFore\u001b[0m\u001b[1;33m\u001b[0m\u001b[1;33m\u001b[0m\u001b[0m\n",
      "\u001b[1;31mModuleNotFoundError\u001b[0m: No module named '无敌的命名包'"
     ]
    }
   ],
   "source": [
    "from 无敌的命名包 import *\n",
    "from sklearn.model_selection import cross_val_score\n",
    "import scipy\n",
    "from colorama import Fore"
   ]
  },
  {
   "cell_type": "code",
   "execution_count": 2,
   "id": "c2bf508f",
   "metadata": {},
   "outputs": [],
   "source": [
    "def pred_check(predictor,pred_type):\n",
    "    if pred_type == \"regression\":\n",
    "        avlbl_predictors = list(regressors_ver.keys())\n",
    "    elif pred_type == \"classification\":\n",
    "        avlbl_predictors = list(classifiers_ver.keys())\n",
    "        \n",
    "    if type(predictor) == str:\n",
    "        if predictor in avlbl_predictors:\n",
    "            return True, predictor\n",
    "        else:\n",
    "            return False, predicotr\n",
    "    \n",
    "    elif type(predictor) == list:\n",
    "        for i in predictor:\n",
    "            if i not in avlbl_predictors:\n",
    "                return False, i\n",
    "        return True, None\n",
    "                "
   ]
  },
  {
   "cell_type": "code",
   "execution_count": 3,
   "id": "6a22fe16",
   "metadata": {},
   "outputs": [],
   "source": [
    "def sparse_check(features, labels):\n",
    "    features = features\n",
    "    labels = labels\n",
    "    \n",
    "    try:\n",
    "        if scipy.sparse.issparse(features[()]):\n",
    "            features = features[()].toarray()\n",
    "        elif scipy.sparse.issparse(labels[()]):\n",
    "            labels = labels[()].toarray()\n",
    "    except Exception as error:\n",
    "        pass\n",
    "    \n",
    "    return features, labels"
   ]
  },
  {
   "cell_type": "code",
   "execution_count": 5,
   "id": "af9dad75",
   "metadata": {},
   "outputs": [],
   "source": [
    "def kfold(model,predictor,X_train,y_train,cv_folds,isReg=False,all_mode=False):\n",
    "    if not isReg:\n",
    "        name = classifiers\n",
    "        scoring = \"accuracy\"\n",
    "        \n",
    "    if isReg:\n",
    "        name = regressors\n",
    "        scoring = \"r2\"\n",
    "    try:\n",
    "        accuracies = cross_val_score(\n",
    "            estimator = model, X = X_train,y = y_train,cv = cv_folds, scoring = scoring\n",
    "        )\n",
    "        \n",
    "        if not all_mode:\n",
    "            if not isReg:\n",
    "                print(\"kfold accuracy:{:.2f}%\".format(accuracies.mean()*100))\n",
    "            if isReg:\n",
    "                print(\"r2 score:{:.2f}%\".format(accuracies.mean()*100))\n",
    "            \n",
    "        model_name = name[predictor]\n",
    "        accuracy = accuracies.mean()*100\n",
    "        if not all_mode:\n",
    "            print(\"standard deviation:{:.2f}%\".format(accuracies.std()*100),\n",
    "                 \"\\n\",\n",
    "                 )\n",
    "        return (model_name, accuracy)\n",
    "    except Exception as error:\n",
    "        print(Fore.RED+\"报错啦，江祁锋\"+error,\"\\n\")\n",
    "    \n",
    "        "
   ]
  },
  {
   "cell_type": "code",
   "execution_count": null,
   "id": "231f18ef",
   "metadata": {},
   "outputs": [],
   "source": []
  }
 ],
 "metadata": {
  "kernelspec": {
   "display_name": "Python 3 (ipykernel)",
   "language": "python",
   "name": "python3"
  },
  "language_info": {
   "codemirror_mode": {
    "name": "ipython",
    "version": 3
   },
   "file_extension": ".py",
   "mimetype": "text/x-python",
   "name": "python",
   "nbconvert_exporter": "python",
   "pygments_lexer": "ipython3",
   "version": "3.9.13"
  }
 },
 "nbformat": 4,
 "nbformat_minor": 5
}
