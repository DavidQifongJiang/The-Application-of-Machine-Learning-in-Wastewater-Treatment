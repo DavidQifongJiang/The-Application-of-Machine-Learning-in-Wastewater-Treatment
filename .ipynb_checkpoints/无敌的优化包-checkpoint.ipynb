{
 "cells": [
  {
   "cell_type": "code",
   "execution_count": 1,
   "id": "0f7abc3c",
   "metadata": {},
   "outputs": [],
   "source": [
    "import optuna"
   ]
  },
  {
   "cell_type": "code",
   "execution_count": 6,
   "id": "67d98825",
   "metadata": {},
   "outputs": [
    {
     "ename": "SyntaxError",
     "evalue": "expression cannot contain assignment, perhaps you meant \"==\"? (646049748.py, line 8)",
     "output_type": "error",
     "traceback": [
      "\u001b[1;36m  File \u001b[1;32m\"C:\\Users\\Ericd\\AppData\\Local\\Temp\\ipykernel_17216\\646049748.py\"\u001b[1;36m, line \u001b[1;32m8\u001b[0m\n\u001b[1;33m    xunlian == optuna.create_study(self.direction = direction, self.sampler = sampler)\u001b[0m\n\u001b[1;37m                                   ^\u001b[0m\n\u001b[1;31mSyntaxError\u001b[0m\u001b[1;31m:\u001b[0m expression cannot contain assignment, perhaps you meant \"==\"?\n"
     ]
    }
   ],
   "source": [
    "class Tuner:\n",
    "    def __init__(self, sampler, n_trials=100, direction=\"maximize\"):\n",
    "        self.n_trials = n_trials\n",
    "        self.sampler = sampler\n",
    "        self.direction = direction\n",
    "    \n",
    "    def tune(self, objective):\n",
    "        xunlian = optuna.create_study(self.direction = direction, self.sampler = sampler)\n",
    "        xunlian.optimize(objective, n_trials = self.n_trials, n_jobs=-1, gc_after_trial=True)\n",
    "        params = xunlian.best_params\n",
    "        best_score = xunlian.best_value\n",
    "        return params, best_score"
   ]
  },
  {
   "cell_type": "code",
   "execution_count": null,
   "id": "196a9223",
   "metadata": {},
   "outputs": [],
   "source": []
  }
 ],
 "metadata": {
  "kernelspec": {
   "display_name": "Python 3 (ipykernel)",
   "language": "python",
   "name": "python3"
  },
  "language_info": {
   "codemirror_mode": {
    "name": "ipython",
    "version": 3
   },
   "file_extension": ".py",
   "mimetype": "text/x-python",
   "name": "python",
   "nbconvert_exporter": "python",
   "pygments_lexer": "ipython3",
   "version": "3.9.13"
  }
 },
 "nbformat": 4,
 "nbformat_minor": 5
}
