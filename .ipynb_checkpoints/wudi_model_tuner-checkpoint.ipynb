{
 "cells": [
  {
   "cell_type": "code",
   "execution_count": 2,
   "id": "36942777",
   "metadata": {},
   "outputs": [
    {
     "ename": "ModuleNotFoundError",
     "evalue": "No module named 'wudi_predictor'",
     "output_type": "error",
     "traceback": [
      "\u001b[1;31m---------------------------------------------------------------------------\u001b[0m",
      "\u001b[1;31mModuleNotFoundError\u001b[0m                       Traceback (most recent call last)",
      "\u001b[1;32m~\\AppData\\Local\\Temp\\ipykernel_13248\\1245323799.py\u001b[0m in \u001b[0;36m<module>\u001b[1;34m\u001b[0m\n\u001b[0;32m      2\u001b[0m \u001b[1;32mimport\u001b[0m \u001b[0msys\u001b[0m\u001b[1;33m\u001b[0m\u001b[1;33m\u001b[0m\u001b[0m\n\u001b[0;32m      3\u001b[0m \u001b[0msys\u001b[0m\u001b[1;33m.\u001b[0m\u001b[0mpath\u001b[0m\u001b[1;33m.\u001b[0m\u001b[0mappend\u001b[0m\u001b[1;33m(\u001b[0m\u001b[1;34mr\"C:\\Users\\Ericd\\OneDrive\\Desktop\\wudimoxing\"\u001b[0m\u001b[1;33m)\u001b[0m\u001b[1;33m\u001b[0m\u001b[1;33m\u001b[0m\u001b[0m\n\u001b[1;32m----> 4\u001b[1;33m \u001b[1;32mfrom\u001b[0m \u001b[0mwudi_predictor\u001b[0m \u001b[1;32mimport\u001b[0m \u001b[0mclassification_predictor\u001b[0m\u001b[1;33m\u001b[0m\u001b[1;33m\u001b[0m\u001b[0m\n\u001b[0m\u001b[0;32m      5\u001b[0m \u001b[1;32mfrom\u001b[0m \u001b[0mwudi_predictor\u001b[0m \u001b[1;32mimport\u001b[0m \u001b[0mregression_predictor\u001b[0m\u001b[1;33m\u001b[0m\u001b[1;33m\u001b[0m\u001b[0m\n\u001b[0;32m      6\u001b[0m \u001b[1;32mfrom\u001b[0m \u001b[0mwudi_validator\u001b[0m \u001b[1;32mimport\u001b[0m \u001b[0mTuner\u001b[0m\u001b[1;33m\u001b[0m\u001b[1;33m\u001b[0m\u001b[0m\n",
      "\u001b[1;31mModuleNotFoundError\u001b[0m: No module named 'wudi_predictor'"
     ]
    }
   ],
   "source": [
    "import traceback\n",
    "import sys\n",
    "sys.path.append(r\"C:\\Users\\Ericd\\OneDrive\\Desktop\\wudimoxing\")\n",
    "from wudi_predictor import classification_predictor\n",
    "from wudi_predictor import regression_predictor\n",
    "from wudi_validator import Tuner\n",
    "from colorama import Fore\n",
    "\n",
    "\n",
    "def wudimodel_tuner(\n",
    "    predictor,\n",
    "    objective,\n",
    "    n_trials,\n",
    "    sampler,\n",
    "    direction,\n",
    "    X_train,\n",
    "    y_train,\n",
    "    cv_folds,\n",
    "    random_state,\n",
    "    metric,\n",
    "    all_mode=False,\n",
    "    verbose=False,\n",
    "    isReg=False,\n",
    "):\n",
    "    \"\"\"\n",
    "    Takes classifier, tune-parameters, Training Data and no. of folds as input and Performs GridSearch Crossvalidation.\n",
    "    \"\"\"\n",
    "    tuner = Tuner(n_trials=n_trials, sampler=sampler, direction=direction)\n",
    "    try:\n",
    "        best_params, best_score = tuner.tune(objective)\n",
    "        if isReg:\n",
    "            model, _ = regression_predictor(\n",
    "                predictor,\n",
    "                best_params,\n",
    "                X_train,\n",
    "                y_train,\n",
    "                cv_folds,\n",
    "                random_state,\n",
    "                metric,\n",
    "                mode=\"tune\",\n",
    "                verbose=verbose,\n",
    "            )\n",
    "        if not isReg:\n",
    "            model, _ = classification_predictor(\n",
    "                predictor,\n",
    "                best_params,\n",
    "                X_train,\n",
    "                y_train,\n",
    "                cv_folds,\n",
    "                random_state,\n",
    "                metric,\n",
    "                mode=\"tune\",\n",
    "                verbose=verbose,\n",
    "            )\n",
    "        if not all_mode:\n",
    "            print(Fore.CYAN + \"        Best Params: \", best_params)\n",
    "            print(Fore.CYAN + \"        Best Score: \", best_score * 100, \"\\n\")\n",
    "        return best_params, best_score, model\n",
    "    except Exception as error:\n",
    "        print(Fore.RED + \"HyperParam Tuning Failed with Error: \", error, \"\\n\")\n",
    "        return None, 0, None"
   ]
  },
  {
   "cell_type": "code",
   "execution_count": null,
   "id": "f05db3ee",
   "metadata": {},
   "outputs": [],
   "source": []
  }
 ],
 "metadata": {
  "kernelspec": {
   "display_name": "Python 3 (ipykernel)",
   "language": "python",
   "name": "python3"
  },
  "language_info": {
   "codemirror_mode": {
    "name": "ipython",
    "version": 3
   },
   "file_extension": ".py",
   "mimetype": "text/x-python",
   "name": "python",
   "nbconvert_exporter": "python",
   "pygments_lexer": "ipython3",
   "version": "3.9.13"
  }
 },
 "nbformat": 4,
 "nbformat_minor": 5
}
